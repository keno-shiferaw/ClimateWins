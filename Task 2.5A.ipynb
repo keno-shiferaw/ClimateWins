{
 "cells": [
  {
   "cell_type": "markdown",
   "id": "ad8609da",
   "metadata": {},
   "source": [
    "### The following script is used to recognize handwritten digits 0 to 9"
   ]
  },
  {
   "cell_type": "code",
   "execution_count": null,
   "id": "5f04da21",
   "metadata": {},
   "outputs": [],
   "source": []
  },
  {
   "cell_type": "code",
   "execution_count": 2,
   "id": "a11aa508",
   "metadata": {},
   "outputs": [],
   "source": [
    "import pandas as pd\n",
    "import numpy as np\n",
    "import seaborn as sns\n",
    "import os\n",
    "import operator\n",
    "import matplotlib.pyplot as plt\n",
    "from sklearn.preprocessing import LabelEncoder\n",
    "from sklearn.metrics import confusion_matrix\n",
    "import tensorflow as tf\n",
    "from numpy import unique\n",
    "from numpy import reshape\n",
    "from tensorflow import keras\n",
    "from keras.models import Sequential\n",
    "from keras.layers import Conv1D, Conv2D, Dense, BatchNormalization, Flatten, MaxPooling2D, Activation\n",
    "from keras.layers import Dense, Dropout\n",
    "from keras.utils import to_categorical\n",
    "from keras.datasets import mnist\n",
    "from numpy import argmax\n",
    "from PIL import Image\n",
    "from numpy import asarray"
   ]
  },
  {
   "cell_type": "code",
   "execution_count": 253,
   "id": "e719b5f0",
   "metadata": {},
   "outputs": [],
   "source": [
    "tf.random.set_seed(42)"
   ]
  },
  {
   "cell_type": "code",
   "execution_count": 254,
   "id": "392dad74",
   "metadata": {},
   "outputs": [],
   "source": [
    "hand = mnist.load_data()"
   ]
  },
  {
   "cell_type": "code",
   "execution_count": 255,
   "id": "4a6e3087",
   "metadata": {},
   "outputs": [
    {
     "data": {
      "text/plain": [
       "(array([[[0, 0, 0, ..., 0, 0, 0],\n",
       "         [0, 0, 0, ..., 0, 0, 0],\n",
       "         [0, 0, 0, ..., 0, 0, 0],\n",
       "         ...,\n",
       "         [0, 0, 0, ..., 0, 0, 0],\n",
       "         [0, 0, 0, ..., 0, 0, 0],\n",
       "         [0, 0, 0, ..., 0, 0, 0]],\n",
       " \n",
       "        [[0, 0, 0, ..., 0, 0, 0],\n",
       "         [0, 0, 0, ..., 0, 0, 0],\n",
       "         [0, 0, 0, ..., 0, 0, 0],\n",
       "         ...,\n",
       "         [0, 0, 0, ..., 0, 0, 0],\n",
       "         [0, 0, 0, ..., 0, 0, 0],\n",
       "         [0, 0, 0, ..., 0, 0, 0]],\n",
       " \n",
       "        [[0, 0, 0, ..., 0, 0, 0],\n",
       "         [0, 0, 0, ..., 0, 0, 0],\n",
       "         [0, 0, 0, ..., 0, 0, 0],\n",
       "         ...,\n",
       "         [0, 0, 0, ..., 0, 0, 0],\n",
       "         [0, 0, 0, ..., 0, 0, 0],\n",
       "         [0, 0, 0, ..., 0, 0, 0]],\n",
       " \n",
       "        ...,\n",
       " \n",
       "        [[0, 0, 0, ..., 0, 0, 0],\n",
       "         [0, 0, 0, ..., 0, 0, 0],\n",
       "         [0, 0, 0, ..., 0, 0, 0],\n",
       "         ...,\n",
       "         [0, 0, 0, ..., 0, 0, 0],\n",
       "         [0, 0, 0, ..., 0, 0, 0],\n",
       "         [0, 0, 0, ..., 0, 0, 0]],\n",
       " \n",
       "        [[0, 0, 0, ..., 0, 0, 0],\n",
       "         [0, 0, 0, ..., 0, 0, 0],\n",
       "         [0, 0, 0, ..., 0, 0, 0],\n",
       "         ...,\n",
       "         [0, 0, 0, ..., 0, 0, 0],\n",
       "         [0, 0, 0, ..., 0, 0, 0],\n",
       "         [0, 0, 0, ..., 0, 0, 0]],\n",
       " \n",
       "        [[0, 0, 0, ..., 0, 0, 0],\n",
       "         [0, 0, 0, ..., 0, 0, 0],\n",
       "         [0, 0, 0, ..., 0, 0, 0],\n",
       "         ...,\n",
       "         [0, 0, 0, ..., 0, 0, 0],\n",
       "         [0, 0, 0, ..., 0, 0, 0],\n",
       "         [0, 0, 0, ..., 0, 0, 0]]], dtype=uint8),\n",
       " array([5, 0, 4, ..., 5, 6, 8], dtype=uint8))"
      ]
     },
     "execution_count": 255,
     "metadata": {},
     "output_type": "execute_result"
    }
   ],
   "source": [
    "hand[0]"
   ]
  },
  {
   "cell_type": "code",
   "execution_count": 256,
   "id": "840f36fb",
   "metadata": {},
   "outputs": [],
   "source": [
    "(X_train, y_train), (X_test, y_test) = hand"
   ]
  },
  {
   "cell_type": "code",
   "execution_count": 257,
   "id": "f8b21abf",
   "metadata": {},
   "outputs": [],
   "source": [
    "np.set_printoptions(edgeitems=3)\n",
    "np.core.arrayprint._line_width = 180000"
   ]
  },
  {
   "cell_type": "code",
   "execution_count": 258,
   "id": "02642982",
   "metadata": {},
   "outputs": [
    {
     "data": {
      "text/plain": [
       "array([[  0,   0,   0,   0,   0,   0,   0,   0,   0,   0,   0,   0,   0,\n",
       "          0,   0,   0,   0,   0,   0,   0,   0,   0,   0,   0,   0,   0,\n",
       "          0,   0],\n",
       "       [  0,   0,   0,   0,   0,   0,   0,   0,   0,   0,   0,   0,   0,\n",
       "          0,   0,   0,   0,   0,   0,   0,   0,   0,   0,   0,   0,   0,\n",
       "          0,   0],\n",
       "       [  0,   0,   0,   0,   0,   0,   0,   0,   0,   0,   0,   0,   0,\n",
       "          0,   0,   0,   0,   0,   0,   0,   0,   0,   0,   0,   0,   0,\n",
       "          0,   0],\n",
       "       [  0,   0,   0,   0,   0,   0,   0,   0,   0,   0,   0,   0,   0,\n",
       "          0,   0,   0,   0,   0,   0,   0,   0,   0,   0,   0,   0,   0,\n",
       "          0,   0],\n",
       "       [  0,   0,   0,   0,   0,   0,   0,   0,   0,   0,   0,   0,   0,\n",
       "          0,   0,   0,   0,   0,   0,   0,   0,   0,   0,   0,   0,   0,\n",
       "          0,   0],\n",
       "       [  0,   0,   0,   0,   0,   0,   0,   0,   0,   0,   0,   0,   3,\n",
       "         18,  18,  18, 126, 136, 175,  26, 166, 255, 247, 127,   0,   0,\n",
       "          0,   0],\n",
       "       [  0,   0,   0,   0,   0,   0,   0,   0,  30,  36,  94, 154, 170,\n",
       "        253, 253, 253, 253, 253, 225, 172, 253, 242, 195,  64,   0,   0,\n",
       "          0,   0],\n",
       "       [  0,   0,   0,   0,   0,   0,   0,  49, 238, 253, 253, 253, 253,\n",
       "        253, 253, 253, 253, 251,  93,  82,  82,  56,  39,   0,   0,   0,\n",
       "          0,   0],\n",
       "       [  0,   0,   0,   0,   0,   0,   0,  18, 219, 253, 253, 253, 253,\n",
       "        253, 198, 182, 247, 241,   0,   0,   0,   0,   0,   0,   0,   0,\n",
       "          0,   0],\n",
       "       [  0,   0,   0,   0,   0,   0,   0,   0,  80, 156, 107, 253, 253,\n",
       "        205,  11,   0,  43, 154,   0,   0,   0,   0,   0,   0,   0,   0,\n",
       "          0,   0],\n",
       "       [  0,   0,   0,   0,   0,   0,   0,   0,   0,  14,   1, 154, 253,\n",
       "         90,   0,   0,   0,   0,   0,   0,   0,   0,   0,   0,   0,   0,\n",
       "          0,   0],\n",
       "       [  0,   0,   0,   0,   0,   0,   0,   0,   0,   0,   0, 139, 253,\n",
       "        190,   2,   0,   0,   0,   0,   0,   0,   0,   0,   0,   0,   0,\n",
       "          0,   0],\n",
       "       [  0,   0,   0,   0,   0,   0,   0,   0,   0,   0,   0,  11, 190,\n",
       "        253,  70,   0,   0,   0,   0,   0,   0,   0,   0,   0,   0,   0,\n",
       "          0,   0],\n",
       "       [  0,   0,   0,   0,   0,   0,   0,   0,   0,   0,   0,   0,  35,\n",
       "        241, 225, 160, 108,   1,   0,   0,   0,   0,   0,   0,   0,   0,\n",
       "          0,   0],\n",
       "       [  0,   0,   0,   0,   0,   0,   0,   0,   0,   0,   0,   0,   0,\n",
       "         81, 240, 253, 253, 119,  25,   0,   0,   0,   0,   0,   0,   0,\n",
       "          0,   0],\n",
       "       [  0,   0,   0,   0,   0,   0,   0,   0,   0,   0,   0,   0,   0,\n",
       "          0,  45, 186, 253, 253, 150,  27,   0,   0,   0,   0,   0,   0,\n",
       "          0,   0],\n",
       "       [  0,   0,   0,   0,   0,   0,   0,   0,   0,   0,   0,   0,   0,\n",
       "          0,   0,  16,  93, 252, 253, 187,   0,   0,   0,   0,   0,   0,\n",
       "          0,   0],\n",
       "       [  0,   0,   0,   0,   0,   0,   0,   0,   0,   0,   0,   0,   0,\n",
       "          0,   0,   0,   0, 249, 253, 249,  64,   0,   0,   0,   0,   0,\n",
       "          0,   0],\n",
       "       [  0,   0,   0,   0,   0,   0,   0,   0,   0,   0,   0,   0,   0,\n",
       "          0,  46, 130, 183, 253, 253, 207,   2,   0,   0,   0,   0,   0,\n",
       "          0,   0],\n",
       "       [  0,   0,   0,   0,   0,   0,   0,   0,   0,   0,   0,   0,  39,\n",
       "        148, 229, 253, 253, 253, 250, 182,   0,   0,   0,   0,   0,   0,\n",
       "          0,   0],\n",
       "       [  0,   0,   0,   0,   0,   0,   0,   0,   0,   0,  24, 114, 221,\n",
       "        253, 253, 253, 253, 201,  78,   0,   0,   0,   0,   0,   0,   0,\n",
       "          0,   0],\n",
       "       [  0,   0,   0,   0,   0,   0,   0,   0,  23,  66, 213, 253, 253,\n",
       "        253, 253, 198,  81,   2,   0,   0,   0,   0,   0,   0,   0,   0,\n",
       "          0,   0],\n",
       "       [  0,   0,   0,   0,   0,   0,  18, 171, 219, 253, 253, 253, 253,\n",
       "        195,  80,   9,   0,   0,   0,   0,   0,   0,   0,   0,   0,   0,\n",
       "          0,   0],\n",
       "       [  0,   0,   0,   0,  55, 172, 226, 253, 253, 253, 253, 244, 133,\n",
       "         11,   0,   0,   0,   0,   0,   0,   0,   0,   0,   0,   0,   0,\n",
       "          0,   0],\n",
       "       [  0,   0,   0,   0, 136, 253, 253, 253, 212, 135, 132,  16,   0,\n",
       "          0,   0,   0,   0,   0,   0,   0,   0,   0,   0,   0,   0,   0,\n",
       "          0,   0],\n",
       "       [  0,   0,   0,   0,   0,   0,   0,   0,   0,   0,   0,   0,   0,\n",
       "          0,   0,   0,   0,   0,   0,   0,   0,   0,   0,   0,   0,   0,\n",
       "          0,   0],\n",
       "       [  0,   0,   0,   0,   0,   0,   0,   0,   0,   0,   0,   0,   0,\n",
       "          0,   0,   0,   0,   0,   0,   0,   0,   0,   0,   0,   0,   0,\n",
       "          0,   0],\n",
       "       [  0,   0,   0,   0,   0,   0,   0,   0,   0,   0,   0,   0,   0,\n",
       "          0,   0,   0,   0,   0,   0,   0,   0,   0,   0,   0,   0,   0,\n",
       "          0,   0]], dtype=uint8)"
      ]
     },
     "execution_count": 258,
     "metadata": {},
     "output_type": "execute_result"
    }
   ],
   "source": [
    "X_train[0]"
   ]
  },
  {
   "cell_type": "code",
   "execution_count": 259,
   "id": "c4acdad4",
   "metadata": {},
   "outputs": [
    {
     "name": "stdout",
     "output_type": "stream",
     "text": [
      "(60000, 28, 28) (60000,)\n",
      "(10000, 28, 28) (10000,)\n"
     ]
    }
   ],
   "source": [
    "print(X_train.shape, y_train.shape)\n",
    "print(X_test.shape, y_test.shape)"
   ]
  },
  {
   "cell_type": "code",
   "execution_count": 260,
   "id": "182875ff",
   "metadata": {},
   "outputs": [
    {
     "data": {
      "text/plain": [
       "array([5, 0, 4, ..., 5, 6, 8], dtype=uint8)"
      ]
     },
     "execution_count": 260,
     "metadata": {},
     "output_type": "execute_result"
    }
   ],
   "source": [
    "y_train"
   ]
  },
  {
   "cell_type": "code",
   "execution_count": 266,
   "id": "6fe30756",
   "metadata": {},
   "outputs": [
    {
     "data": {
      "text/plain": [
       "<matplotlib.image.AxesImage at 0x1d50134de10>"
      ]
     },
     "execution_count": 266,
     "metadata": {},
     "output_type": "execute_result"
    },
    {
     "data": {
      "image/png": "[encoded data removed]",
      "text/plain": [
       "<Figure size 640x480 with 1 Axes>"
      ]
     },
     "metadata": {},
     "output_type": "display_data"
    }
   ],
   "source": [
    "plt.imshow(X_train[4])"
   ]
  },
  {
   "cell_type": "code",
   "execution_count": 267,
   "id": "e389ad84",
   "metadata": {},
   "outputs": [
    {
     "data": {
      "image/png": "[encoded data removed]",
      "text/plain": [
       "<Figure size 750x1000 with 25 Axes>"
      ]
     },
     "metadata": {},
     "output_type": "display_data"
    }
   ],
   "source": [
    "num = 25\n",
    "images = X_train[:num]\n",
    "labels = y_train[:num]\n",
    "\n",
    "num_row = 5\n",
    "num_col = 5\n",
    "# plot images\n",
    "fig, axes = plt.subplots(num_row, num_col, figsize=(1.5*num_col,2*num_row))\n",
    "for i in range(num):\n",
    "    ax = axes[i//num_col, i%num_col]\n",
    "    ax.imshow(images[i])#, cmap='gray')\n",
    "    ax.set_title('Label: {}'.format(labels[i]))\n",
    "plt.tight_layout()\n",
    "plt.show()"
   ]
  },
  {
   "cell_type": "code",
   "execution_count": 269,
   "id": "58f14800",
   "metadata": {},
   "outputs": [],
   "source": [
    "# 5. Preprocess input data\n",
    "X_train = X_train.reshape(X_train.shape[0], 28, 28, 1)\n",
    "X_test = X_test.reshape(X_test.shape[0], 28, 28, 1)"
   ]
  },
  {
   "cell_type": "code",
   "execution_count": 270,
   "id": "aa74a1b0",
   "metadata": {},
   "outputs": [],
   "source": [
    "X_train = X_train.astype('float32')\n",
    "X_test = X_test.astype('float32')"
   ]
  },
  {
   "cell_type": "code",
   "execution_count": 271,
   "id": "822b914e",
   "metadata": {},
   "outputs": [],
   "source": [
    "X_train /= 255\n",
    "X_test /= 255"
   ]
  },
  {
   "cell_type": "code",
   "execution_count": 272,
   "id": "7d94a1e2",
   "metadata": {},
   "outputs": [],
   "source": [
    "# 6. Preprocess class labels\n",
    "Y_train = to_categorical(y_train, 10)\n",
    "Y_test = to_categorical(y_test, 10)"
   ]
  },
  {
   "cell_type": "code",
   "execution_count": 273,
   "id": "95187f02",
   "metadata": {},
   "outputs": [
    {
     "data": {
      "text/plain": [
       "array([[0., 0., 0., ..., 0., 0., 0.],\n",
       "       [1., 0., 0., ..., 0., 0., 0.],\n",
       "       [0., 0., 0., ..., 0., 0., 0.],\n",
       "       ...,\n",
       "       [0., 0., 0., ..., 0., 0., 0.],\n",
       "       [0., 0., 0., ..., 0., 0., 0.],\n",
       "       [0., 0., 0., ..., 0., 1., 0.]])"
      ]
     },
     "execution_count": 273,
     "metadata": {},
     "output_type": "execute_result"
    }
   ],
   "source": [
    "Y_train"
   ]
  },
  {
   "cell_type": "code",
   "execution_count": 274,
   "id": "ab8b0b26",
   "metadata": {
    "scrolled": true
   },
   "outputs": [
    {
     "name": "stdout",
     "output_type": "stream",
     "text": [
      "label:  0  in one-hot representation:  [0 0 0 0 0 1 0 0 0 0]\n",
      "label:  1  in one-hot representation:  [1 0 0 0 0 0 0 0 0 0]\n",
      "label:  2  in one-hot representation:  [0 0 0 0 1 0 0 0 0 0]\n",
      "label:  3  in one-hot representation:  [0 1 0 0 0 0 0 0 0 0]\n",
      "label:  4  in one-hot representation:  [0 0 0 0 0 0 0 0 0 1]\n",
      "label:  5  in one-hot representation:  [0 0 1 0 0 0 0 0 0 0]\n",
      "label:  6  in one-hot representation:  [0 1 0 0 0 0 0 0 0 0]\n",
      "label:  7  in one-hot representation:  [0 0 0 1 0 0 0 0 0 0]\n",
      "label:  8  in one-hot representation:  [0 1 0 0 0 0 0 0 0 0]\n",
      "label:  9  in one-hot representation:  [0 0 0 0 1 0 0 0 0 0]\n"
     ]
    }
   ],
   "source": [
    "for label in range(10):\n",
    "    one_hot = (Y_train[label]).astype(np.int32)\n",
    "    print(\"label: \", label, \" in one-hot representation: \", one_hot)"
   ]
  },
  {
   "cell_type": "code",
   "execution_count": 275,
   "id": "ca844f9e",
   "metadata": {},
   "outputs": [
    {
     "name": "stderr",
     "output_type": "stream",
     "text": [
      "C:\\Users\\kshifera\\AppData\\Local\\anaconda3\\Lib\\site-packages\\keras\\src\\layers\\convolutional\\base_conv.py:107: UserWarning: Do not pass an `input_shape`/`input_dim` argument to a layer. When using Sequential models, prefer using an `Input(shape)` object as the first layer in the model instead.\n",
      "  super().__init__(activity_regularizer=activity_regularizer, **kwargs)\n"
     ]
    }
   ],
   "source": [
    "epochs = 30\n",
    "batch_size = 16\n",
    "n_hidden = 32\n",
    "\n",
    "#timesteps = len(X_train[0])\n",
    "#input_dim = len(X_train[0][0])\n",
    "#n_classes = _count_classes(Y_train)\n",
    "\n",
    "# 7. Define model architecture\n",
    "model = Sequential()\n",
    " \n",
    "model.add(Conv2D(32, (3,3), activation='relu', input_shape=(28,28,1)))\n",
    "model.add(Conv2D(32, (3,3), activation='relu'))\n",
    "model.add(MaxPooling2D(pool_size=(2,2)))\n",
    "model.add(Dropout(0.25))\n",
    " \n",
    "model.add(Flatten())\n",
    "model.add(Dense(128, activation='relu'))\n",
    "model.add(Dropout(0.5))\n",
    "model.add(Dense(10, activation='softmax'))\n",
    " \n",
    "# 8. Compile model\n",
    "model.compile(loss='categorical_crossentropy', optimizer='adam', metrics=['accuracy'])"
   ]
  },
  {
   "cell_type": "code",
   "execution_count": 276,
   "id": "3a790644",
   "metadata": {},
   "outputs": [
    {
     "name": "stdout",
     "output_type": "stream",
     "text": [
      "Epoch 1/10\n",
      "\u001b[1m1875/1875\u001b[0m \u001b[32m━━━━━━━━━━━━━━━━━━━━\u001b[0m\u001b[37m\u001b[0m \u001b[1m33s\u001b[0m 17ms/step - accuracy: 0.8697 - loss: 0.4105\n",
      "Epoch 2/10\n",
      "\u001b[1m1875/1875\u001b[0m \u001b[32m━━━━━━━━━━━━━━━━━━━━\u001b[0m\u001b[37m\u001b[0m \u001b[1m33s\u001b[0m 18ms/step - accuracy: 0.9730 - loss: 0.0924\n",
      "Epoch 3/10\n",
      "\u001b[1m1875/1875\u001b[0m \u001b[32m━━━━━━━━━━━━━━━━━━━━\u001b[0m\u001b[37m\u001b[0m \u001b[1m34s\u001b[0m 18ms/step - accuracy: 0.9790 - loss: 0.0677\n",
      "Epoch 4/10\n",
      "\u001b[1m1875/1875\u001b[0m \u001b[32m━━━━━━━━━━━━━━━━━━━━\u001b[0m\u001b[37m\u001b[0m \u001b[1m34s\u001b[0m 18ms/step - accuracy: 0.9826 - loss: 0.0551\n",
      "Epoch 5/10\n",
      "\u001b[1m1875/1875\u001b[0m \u001b[32m━━━━━━━━━━━━━━━━━━━━\u001b[0m\u001b[37m\u001b[0m \u001b[1m33s\u001b[0m 18ms/step - accuracy: 0.9851 - loss: 0.0470\n",
      "Epoch 6/10\n",
      "\u001b[1m1875/1875\u001b[0m \u001b[32m━━━━━━━━━━━━━━━━━━━━\u001b[0m\u001b[37m\u001b[0m \u001b[1m35s\u001b[0m 19ms/step - accuracy: 0.9871 - loss: 0.0421\n",
      "Epoch 7/10\n",
      "\u001b[1m1875/1875\u001b[0m \u001b[32m━━━━━━━━━━━━━━━━━━━━\u001b[0m\u001b[37m\u001b[0m \u001b[1m36s\u001b[0m 19ms/step - accuracy: 0.9882 - loss: 0.0379\n",
      "Epoch 8/10\n",
      "\u001b[1m1875/1875\u001b[0m \u001b[32m━━━━━━━━━━━━━━━━━━━━\u001b[0m\u001b[37m\u001b[0m \u001b[1m36s\u001b[0m 19ms/step - accuracy: 0.9901 - loss: 0.0331\n",
      "Epoch 9/10\n",
      "\u001b[1m1875/1875\u001b[0m \u001b[32m━━━━━━━━━━━━━━━━━━━━\u001b[0m\u001b[37m\u001b[0m \u001b[1m33s\u001b[0m 18ms/step - accuracy: 0.9905 - loss: 0.0304\n",
      "Epoch 10/10\n",
      "\u001b[1m1875/1875\u001b[0m \u001b[32m━━━━━━━━━━━━━━━━━━━━\u001b[0m\u001b[37m\u001b[0m \u001b[1m37s\u001b[0m 20ms/step - accuracy: 0.9905 - loss: 0.0294\n"
     ]
    },
    {
     "data": {
      "text/plain": [
       "<keras.src.callbacks.history.History at 0x1d501797650>"
      ]
     },
     "execution_count": 276,
     "metadata": {},
     "output_type": "execute_result"
    }
   ],
   "source": [
    "# 9. Fit model on training data\n",
    "model.fit(X_train, Y_train, batch_size=32, epochs=10, verbose=1)"
   ]
  },
  {
   "cell_type": "code",
   "execution_count": 277,
   "id": "ff5d4f99",
   "metadata": {
    "scrolled": true
   },
   "outputs": [
    {
     "name": "stdout",
     "output_type": "stream",
     "text": [
      "313/313 - 1s - 5ms/step - accuracy: 0.9923 - loss: 0.0283\n"
     ]
    }
   ],
   "source": [
    "# 10. Evaluate model on test data\n",
    "score = model.evaluate(X_test, Y_test, verbose=2)"
   ]
  },
  {
   "cell_type": "code",
   "execution_count": 279,
   "id": "6aaaabad",
   "metadata": {},
   "outputs": [
    {
     "name": "stdout",
     "output_type": "stream",
     "text": [
      "\u001b[1m1/1\u001b[0m \u001b[32m━━━━━━━━━━━━━━━━━━━━\u001b[0m\u001b[37m\u001b[0m \u001b[1m0s\u001b[0m 22ms/step\n"
     ]
    },
    {
     "data": {
      "text/plain": [
       "array([[2.90216930e-11, 2.66223310e-09, 7.53795637e-11, 3.52207929e-09,\n",
       "        3.86900689e-13, 1.90448633e-12, 7.16673667e-18, 1.00000000e+00,\n",
       "        6.01539027e-11, 2.44168064e-08],\n",
       "       [2.93879004e-10, 1.91108640e-09, 1.00000000e+00, 1.71049514e-12,\n",
       "        1.89967416e-14, 3.29012181e-17, 1.12832088e-09, 2.03210607e-14,\n",
       "        1.78084598e-13, 1.51370219e-15],\n",
       "       [1.14415257e-11, 9.99999523e-01, 5.55800561e-09, 2.39521215e-11,\n",
       "        1.18527197e-07, 3.58239727e-09, 2.06339479e-09, 3.57137964e-07,\n",
       "        8.18354806e-09, 1.99188599e-09],\n",
       "       [9.99997616e-01, 2.85073187e-09, 2.15166995e-08, 3.00727065e-09,\n",
       "        4.18819646e-10, 3.85064673e-08, 1.39572035e-06, 7.33880938e-08,\n",
       "        6.89007663e-07, 1.03041565e-07],\n",
       "       [5.32199474e-14, 1.79699831e-12, 9.27910526e-12, 1.52678419e-15,\n",
       "        9.99995470e-01, 1.61339414e-10, 4.73305206e-12, 2.77340734e-10,\n",
       "        1.98041095e-09, 4.50854213e-06],\n",
       "       [1.56974017e-10, 9.99991059e-01, 2.29102293e-09, 5.76007610e-11,\n",
       "        6.21985350e-07, 2.30862618e-09, 1.34236577e-09, 8.17654836e-06,\n",
       "        3.44938407e-08, 9.99228256e-09],\n",
       "       [4.36777012e-14, 1.01438591e-08, 1.13257806e-10, 5.87418230e-14,\n",
       "        9.99070883e-01, 4.12654124e-08, 8.26544333e-10, 8.71796146e-08,\n",
       "        9.13196360e-04, 1.56752631e-05],\n",
       "       [8.43151978e-14, 7.47760104e-16, 6.05032066e-11, 3.84969590e-13,\n",
       "        1.39235809e-07, 1.13965094e-10, 1.79626211e-15, 1.75715887e-13,\n",
       "        1.58935600e-05, 9.99984026e-01],\n",
       "       [9.31888735e-08, 2.20470142e-10, 4.12803515e-12, 6.47477280e-11,\n",
       "        3.56913961e-06, 9.96206999e-01, 2.63399514e-03, 5.51219237e-10,\n",
       "        1.15119433e-03, 4.16175408e-06],\n",
       "       [1.52534845e-14, 5.26388232e-13, 1.44174684e-13, 2.25911934e-09,\n",
       "        5.11562939e-06, 1.61923508e-09, 2.32571213e-16, 2.40211790e-07,\n",
       "        1.89776856e-07, 9.99994397e-01],\n",
       "       [9.99999881e-01, 8.18820706e-12, 2.54893062e-09, 1.41931180e-11,\n",
       "        2.85644338e-12, 5.96932920e-11, 8.09747114e-09, 2.60639221e-09,\n",
       "        2.43477878e-08, 6.47000959e-08],\n",
       "       [2.62857847e-09, 9.27389608e-15, 6.14704198e-16, 4.53602078e-16,\n",
       "        1.09813179e-12, 1.13165678e-10, 1.00000000e+00, 6.95832965e-19,\n",
       "        1.60892411e-10, 3.24966138e-15],\n",
       "       [4.63345623e-14, 3.56047657e-14, 2.27022069e-13, 1.62522176e-10,\n",
       "        3.45612693e-06, 2.79344603e-10, 3.31533513e-16, 1.68630709e-08,\n",
       "        8.46090416e-08, 9.99996424e-01],\n",
       "       [1.00000000e+00, 6.60916894e-12, 1.58892499e-09, 1.58440134e-12,\n",
       "        7.71795605e-13, 1.49837191e-11, 1.54495901e-08, 8.03180959e-12,\n",
       "        3.77488121e-08, 4.67813432e-09],\n",
       "       [7.60053262e-13, 1.00000000e+00, 1.10098475e-11, 1.57034004e-11,\n",
       "        8.14350454e-09, 1.19594388e-08, 2.11339968e-09, 1.08804743e-08,\n",
       "        5.70554892e-09, 6.33347375e-10],\n",
       "       [2.44101375e-12, 3.10325279e-13, 4.39104482e-13, 4.34409117e-07,\n",
       "        1.47647173e-16, 9.99999523e-01, 7.56876162e-09, 1.56751435e-11,\n",
       "        1.99700754e-08, 4.73560358e-10],\n",
       "       [1.00188588e-13, 2.28903945e-13, 3.84069642e-12, 9.95811766e-11,\n",
       "        1.16581386e-05, 1.28884181e-09, 5.63408200e-16, 1.23538575e-06,\n",
       "        2.44106246e-08, 9.99987125e-01],\n",
       "       [4.41215467e-12, 6.35628147e-11, 5.86696967e-12, 2.75362400e-09,\n",
       "        6.04524406e-13, 3.23911986e-13, 1.66204858e-19, 1.00000000e+00,\n",
       "        6.01773731e-13, 2.21597460e-08],\n",
       "       [1.07529218e-06, 2.87580428e-06, 1.31014080e-04, 9.86680746e-01,\n",
       "        4.63105465e-09, 1.14036519e-02, 3.49270449e-05, 5.06894912e-06,\n",
       "        1.73950009e-03, 1.14946454e-06],\n",
       "       [1.72898589e-15, 2.26345276e-10, 4.11946761e-11, 6.80713420e-14,\n",
       "        1.00000000e+00, 1.64453257e-10, 4.79693433e-13, 1.01940802e-08,\n",
       "        3.72184228e-11, 3.14453885e-09],\n",
       "       [1.70339593e-11, 3.82498228e-10, 1.40983700e-11, 9.75291641e-06,\n",
       "        1.72820728e-05, 5.16690875e-07, 2.92596215e-13, 1.22488018e-06,\n",
       "        1.25777319e-06, 9.99969959e-01],\n",
       "       [8.63473559e-09, 9.03313475e-14, 2.19934747e-14, 2.26315521e-13,\n",
       "        1.96412886e-11, 8.96933561e-05, 9.99910116e-01, 2.71646060e-16,\n",
       "        1.75660887e-07, 6.24719948e-13],\n",
       "       [5.55493715e-12, 1.45963005e-12, 4.79018605e-17, 4.30212377e-18,\n",
       "        1.47750001e-09, 2.28978295e-11, 1.00000000e+00, 1.80639735e-17,\n",
       "        1.49165368e-11, 6.54669097e-15],\n",
       "       [6.85072624e-15, 1.92280020e-14, 3.34776504e-17, 5.37028859e-11,\n",
       "        4.46675744e-14, 1.00000000e+00, 6.67069067e-09, 1.74104393e-16,\n",
       "        1.13916931e-10, 4.65283545e-09],\n",
       "       [2.64916449e-14, 5.74794864e-11, 1.68416225e-10, 5.66026209e-14,\n",
       "        9.99998689e-01, 5.39769229e-10, 2.66578795e-12, 3.50676466e-09,\n",
       "        1.60470803e-10, 1.33990693e-06]], dtype=float32)"
      ]
     },
     "execution_count": 279,
     "metadata": {},
     "output_type": "execute_result"
    }
   ],
   "source": [
    "#predict first 25 images in the test set\n",
    "model.predict(X_test[:25])"
   ]
  },
  {
   "cell_type": "code",
   "execution_count": 280,
   "id": "19a7d0c6",
   "metadata": {},
   "outputs": [
    {
     "name": "stdout",
     "output_type": "stream",
     "text": [
      "\u001b[1m1/1\u001b[0m \u001b[32m━━━━━━━━━━━━━━━━━━━━\u001b[0m\u001b[37m\u001b[0m \u001b[1m0s\u001b[0m 33ms/step\n"
     ]
    },
    {
     "data": {
      "text/plain": [
       "array([1.        , 1.        , 1.        , 0.99999994, 1.        ,\n",
       "       0.99999994, 0.9999999 , 1.        , 1.        , 0.99999994,\n",
       "       0.99999994, 1.        , 1.        , 1.        , 1.        ,\n",
       "       0.99999994, 1.        , 1.        , 1.        , 1.        ,\n",
       "       1.        , 1.        , 1.        , 1.        , 1.        ],\n",
       "      dtype=float32)"
      ]
     },
     "execution_count": 280,
     "metadata": {},
     "output_type": "execute_result"
    }
   ],
   "source": [
    "sumarray = np.sum(model.predict(X_test[:25]), axis=1)\n",
    "sumarray"
   ]
  },
  {
   "cell_type": "code",
   "execution_count": 281,
   "id": "1fc6f5f2",
   "metadata": {},
   "outputs": [
    {
     "data": {
      "text/plain": [
       "array([7, 2, 1, 0, 4, 1, 4, 9, 5, 9, 0, 6, 9, 0, 1, 5, 9, 7, 3, 4, 9, 6,\n",
       "       6, 5, 4], dtype=uint8)"
      ]
     },
     "execution_count": 281,
     "metadata": {},
     "output_type": "execute_result"
    }
   ],
   "source": [
    "#actual results for first 25 images in test set\n",
    "y_test[:25]"
   ]
  },
  {
   "cell_type": "code",
   "execution_count": 282,
   "id": "a060e9ca",
   "metadata": {},
   "outputs": [
    {
     "name": "stdout",
     "output_type": "stream",
     "text": [
      "\u001b[1m313/313\u001b[0m \u001b[32m━━━━━━━━━━━━━━━━━━━━\u001b[0m\u001b[37m\u001b[0m \u001b[1m2s\u001b[0m 5ms/step\n",
      "[[ 974    0    0    1    1    0    3    0    1    0]\n",
      " [   0 1132    1    0    0    1    1    0    0    0]\n",
      " [   1    1 1022    0    0    0    0    6    1    1]\n",
      " [   0    0    1 1003    0    2    0    1    2    1]\n",
      " [   0    0    0    0  973    0    1    0    2    6]\n",
      " [   1    0    0    4    0  883    1    0    1    2]\n",
      " [   3    2    0    1    2    1  948    0    1    0]\n",
      " [   0    1    3    0    0    0    0 1022    1    1]\n",
      " [   2    0    1    0    0    0    0    0  968    3]\n",
      " [   0    0    0    0    4    2    0    2    3  998]]\n"
     ]
    }
   ],
   "source": [
    "test_predictions = model.predict(X_test)\n",
    "cm = confusion_matrix(y_test, np.argmax(test_predictions,axis=1))\n",
    "print(cm)"
   ]
  },
  {
   "cell_type": "markdown",
   "id": "c792b73c",
   "metadata": {},
   "source": [
    "## Test for Handwritten Digits"
   ]
  },
  {
   "cell_type": "code",
   "execution_count": 283,
   "id": "d7a4d433",
   "metadata": {},
   "outputs": [],
   "source": [
    "path = r'C:\\Users\\kshifera\\Desktop\\CF_Course\\Specialization\\Project\\Data Sets'"
   ]
  },
  {
   "cell_type": "markdown",
   "id": "ef93e3d8",
   "metadata": {},
   "source": [
    "### Test for 9"
   ]
  },
  {
   "cell_type": "code",
   "execution_count": 284,
   "id": "222bc036",
   "metadata": {},
   "outputs": [
    {
     "name": "stdout",
     "output_type": "stream",
     "text": [
      "JPEG\n",
      "(2848, 2786)\n",
      "L\n"
     ]
    }
   ],
   "source": [
    "img = Image.open(os.path.join(path, 'Nine.jpg'))\n",
    "print(img.format)\n",
    "print(img.size)\n",
    "print(img.mode)"
   ]
  },
  {
   "cell_type": "code",
   "execution_count": 285,
   "id": "03b4e9db",
   "metadata": {},
   "outputs": [
    {
     "data": {
      "image/png": "[encoded data removed]",
      "text/plain": [
       "<PIL.Image.Image image mode=L size=28x28>"
      ]
     },
     "execution_count": 285,
     "metadata": {},
     "output_type": "execute_result"
    }
   ],
   "source": [
    "newsize = (28,28)\n",
    "img = img.resize(newsize)\n",
    "img"
   ]
  },
  {
   "cell_type": "code",
   "execution_count": 286,
   "id": "b350c7ae",
   "metadata": {},
   "outputs": [],
   "source": [
    "testimg = asarray(img)"
   ]
  },
  {
   "cell_type": "code",
   "execution_count": 287,
   "id": "e32814eb",
   "metadata": {},
   "outputs": [
    {
     "name": "stdout",
     "output_type": "stream",
     "text": [
      "(28, 28)\n"
     ]
    }
   ],
   "source": [
    "print(testimg.shape)"
   ]
  },
  {
   "cell_type": "code",
   "execution_count": 288,
   "id": "17699a86",
   "metadata": {},
   "outputs": [],
   "source": [
    "testimg = testimg.reshape(1, 28, 28, 1)"
   ]
  },
  {
   "cell_type": "code",
   "execution_count": 289,
   "id": "9741b48a",
   "metadata": {},
   "outputs": [
    {
     "name": "stdout",
     "output_type": "stream",
     "text": [
      "\u001b[1m1/1\u001b[0m \u001b[32m━━━━━━━━━━━━━━━━━━━━\u001b[0m\u001b[37m\u001b[0m \u001b[1m0s\u001b[0m 62ms/step\n",
      "8\n"
     ]
    }
   ],
   "source": [
    "# predict the class\n",
    "predict_value = model.predict(testimg)\n",
    "digit = argmax(predict_value)\n",
    "print(digit)"
   ]
  },
  {
   "cell_type": "code",
   "execution_count": 290,
   "id": "1d065820",
   "metadata": {},
   "outputs": [],
   "source": [
    "# wrong!"
   ]
  },
  {
   "cell_type": "markdown",
   "id": "e3b9867b",
   "metadata": {},
   "source": [
    "### Test for 8"
   ]
  },
  {
   "cell_type": "code",
   "execution_count": 291,
   "id": "e05440ca",
   "metadata": {
    "scrolled": false
   },
   "outputs": [
    {
     "name": "stdout",
     "output_type": "stream",
     "text": [
      "JPEG\n",
      "(2721, 2681)\n",
      "L\n"
     ]
    }
   ],
   "source": [
    "img = Image.open(os.path.join(path, 'Eight.jpg'))\n",
    "print(img.format)\n",
    "print(img.size)\n",
    "print(img.mode)"
   ]
  },
  {
   "cell_type": "code",
   "execution_count": 292,
   "id": "e166e286",
   "metadata": {},
   "outputs": [
    {
     "data": {
      "image/png": "[encoded data removed]",
      "text/plain": [
       "<PIL.Image.Image image mode=L size=28x28>"
      ]
     },
     "execution_count": 292,
     "metadata": {},
     "output_type": "execute_result"
    }
   ],
   "source": [
    "newsize = (28,28)\n",
    "img2 = img.resize(newsize)\n",
    "img2"
   ]
  },
  {
   "cell_type": "code",
   "execution_count": 293,
   "id": "8fe2eb8d",
   "metadata": {},
   "outputs": [],
   "source": [
    "testimg = asarray(img2)"
   ]
  },
  {
   "cell_type": "code",
   "execution_count": 294,
   "id": "a2c70ad5",
   "metadata": {},
   "outputs": [
    {
     "name": "stdout",
     "output_type": "stream",
     "text": [
      "(28, 28)\n"
     ]
    }
   ],
   "source": [
    "print(testimg.shape)"
   ]
  },
  {
   "cell_type": "code",
   "execution_count": 295,
   "id": "46dc0eaa",
   "metadata": {},
   "outputs": [],
   "source": [
    "testimg = testimg.reshape(1, 28, 28, 1)"
   ]
  },
  {
   "cell_type": "code",
   "execution_count": 296,
   "id": "f1149b17",
   "metadata": {},
   "outputs": [
    {
     "name": "stdout",
     "output_type": "stream",
     "text": [
      "\u001b[1m1/1\u001b[0m \u001b[32m━━━━━━━━━━━━━━━━━━━━\u001b[0m\u001b[37m\u001b[0m \u001b[1m0s\u001b[0m 33ms/step\n",
      "8\n"
     ]
    }
   ],
   "source": [
    "# predict the class\n",
    "predict_value = model.predict(testimg)\n",
    "digit = argmax(predict_value)\n",
    "print(digit)"
   ]
  },
  {
   "cell_type": "code",
   "execution_count": 173,
   "id": "caa9203d",
   "metadata": {},
   "outputs": [],
   "source": [
    "# correct!"
   ]
  },
  {
   "cell_type": "markdown",
   "id": "8cad3676",
   "metadata": {},
   "source": [
    "### Test for 7"
   ]
  },
  {
   "cell_type": "code",
   "execution_count": 1,
   "id": "25ffe251",
   "metadata": {},
   "outputs": [
    {
     "ename": "NameError",
     "evalue": "name 'Image' is not defined",
     "output_type": "error",
     "traceback": [
      "\u001b[1;31m---------------------------------------------------------------------------\u001b[0m",
      "\u001b[1;31mNameError\u001b[0m                                 Traceback (most recent call last)",
      "Cell \u001b[1;32mIn[1], line 1\u001b[0m\n\u001b[1;32m----> 1\u001b[0m img \u001b[38;5;241m=\u001b[39m Image\u001b[38;5;241m.\u001b[39mopen(os\u001b[38;5;241m.\u001b[39mpath\u001b[38;5;241m.\u001b[39mjoin(path, \u001b[38;5;124m'\u001b[39m\u001b[38;5;124mSeven.jpg\u001b[39m\u001b[38;5;124m'\u001b[39m))\n\u001b[0;32m      2\u001b[0m \u001b[38;5;28mprint\u001b[39m(img\u001b[38;5;241m.\u001b[39mformat)\n\u001b[0;32m      3\u001b[0m \u001b[38;5;28mprint\u001b[39m(img\u001b[38;5;241m.\u001b[39msize)\n",
      "\u001b[1;31mNameError\u001b[0m: name 'Image' is not defined"
     ]
    }
   ],
   "source": [
    "img = Image.open(os.path.join(path, 'Seven.jpg'))\n",
    "print(img.format)\n",
    "print(img.size)\n",
    "print(img.mode)"
   ]
  },
  {
   "cell_type": "code",
   "execution_count": 175,
   "id": "81542d6a",
   "metadata": {},
   "outputs": [
    {
     "data": {
      "image/png": "[encoded data removed]",
      "text/plain": [
       "<PIL.Image.Image image mode=L size=28x28>"
      ]
     },
     "execution_count": 175,
     "metadata": {},
     "output_type": "execute_result"
    }
   ],
   "source": [
    "newsize = (28,28)\n",
    "img = img.resize(newsize)\n",
    "img"
   ]
  },
  {
   "cell_type": "code",
   "execution_count": 176,
   "id": "39e644a6",
   "metadata": {},
   "outputs": [],
   "source": [
    "testimg = asarray(img)"
   ]
  },
  {
   "cell_type": "code",
   "execution_count": 177,
   "id": "36f743a1",
   "metadata": {},
   "outputs": [
    {
     "name": "stdout",
     "output_type": "stream",
     "text": [
      "(28, 28)\n"
     ]
    }
   ],
   "source": [
    "print(testimg.shape)"
   ]
  },
  {
   "cell_type": "code",
   "execution_count": 178,
   "id": "08b3fdac",
   "metadata": {},
   "outputs": [],
   "source": [
    "testimg = testimg.reshape(1, 28, 28, 1)"
   ]
  },
  {
   "cell_type": "code",
   "execution_count": 179,
   "id": "34e02398",
   "metadata": {},
   "outputs": [
    {
     "name": "stdout",
     "output_type": "stream",
     "text": [
      "\u001b[1m1/1\u001b[0m \u001b[32m━━━━━━━━━━━━━━━━━━━━\u001b[0m\u001b[37m\u001b[0m \u001b[1m0s\u001b[0m 31ms/step\n",
      "8\n"
     ]
    }
   ],
   "source": [
    "# predict the class\n",
    "predict_value = model.predict(testimg)\n",
    "digit = argmax(predict_value)\n",
    "print(digit)"
   ]
  },
  {
   "cell_type": "code",
   "execution_count": 180,
   "id": "58d6f4aa",
   "metadata": {},
   "outputs": [],
   "source": [
    "# wrong!"
   ]
  },
  {
   "cell_type": "markdown",
   "id": "37c60718",
   "metadata": {},
   "source": [
    "### Test for 6"
   ]
  },
  {
   "cell_type": "code",
   "execution_count": 181,
   "id": "803a92cf",
   "metadata": {},
   "outputs": [
    {
     "name": "stdout",
     "output_type": "stream",
     "text": [
      "JPEG\n",
      "(2474, 2079)\n",
      "L\n"
     ]
    }
   ],
   "source": [
    "img = Image.open(os.path.join(path, 'Six.jpg'))\n",
    "print(img.format)\n",
    "print(img.size)\n",
    "print(img.mode)"
   ]
  },
  {
   "cell_type": "code",
   "execution_count": 182,
   "id": "3f5437fb",
   "metadata": {},
   "outputs": [
    {
     "data": {
      "image/png": "[encoded data removed]",
      "text/plain": [
       "<PIL.Image.Image image mode=L size=28x28>"
      ]
     },
     "execution_count": 182,
     "metadata": {},
     "output_type": "execute_result"
    }
   ],
   "source": [
    "newsize = (28,28)\n",
    "img = img.resize(newsize)\n",
    "img"
   ]
  },
  {
   "cell_type": "code",
   "execution_count": 183,
   "id": "afa49408",
   "metadata": {},
   "outputs": [],
   "source": [
    "testimg = asarray(img)"
   ]
  },
  {
   "cell_type": "code",
   "execution_count": 184,
   "id": "6792f5c7",
   "metadata": {},
   "outputs": [
    {
     "name": "stdout",
     "output_type": "stream",
     "text": [
      "(28, 28)\n"
     ]
    }
   ],
   "source": [
    "print(testimg.shape)"
   ]
  },
  {
   "cell_type": "code",
   "execution_count": 185,
   "id": "f33fb880",
   "metadata": {},
   "outputs": [],
   "source": [
    "testimg = testimg.reshape(1, 28, 28, 1)"
   ]
  },
  {
   "cell_type": "code",
   "execution_count": 186,
   "id": "006b305a",
   "metadata": {},
   "outputs": [
    {
     "name": "stdout",
     "output_type": "stream",
     "text": [
      "\u001b[1m1/1\u001b[0m \u001b[32m━━━━━━━━━━━━━━━━━━━━\u001b[0m\u001b[37m\u001b[0m \u001b[1m0s\u001b[0m 10ms/step\n",
      "8\n"
     ]
    }
   ],
   "source": [
    "# predict the class\n",
    "predict_value = model.predict(testimg)\n",
    "digit = argmax(predict_value)\n",
    "print(digit)"
   ]
  },
  {
   "cell_type": "markdown",
   "id": "4f00f7ea",
   "metadata": {},
   "source": [
    "### Test for 5"
   ]
  },
  {
   "cell_type": "code",
   "execution_count": 198,
   "id": "eb011e8d",
   "metadata": {},
   "outputs": [
    {
     "name": "stdout",
     "output_type": "stream",
     "text": [
      "JPEG\n",
      "(2743, 3108)\n",
      "L\n"
     ]
    }
   ],
   "source": [
    "img = Image.open(os.path.join(path, 'Five.jpg'))\n",
    "print(img.format)\n",
    "print(img.size)\n",
    "print(img.mode)"
   ]
  },
  {
   "cell_type": "code",
   "execution_count": 199,
   "id": "f75b1398",
   "metadata": {},
   "outputs": [
    {
     "data": {
      "image/png": "[encoded data removed]",
      "text/plain": [
       "<PIL.Image.Image image mode=L size=28x28>"
      ]
     },
     "execution_count": 199,
     "metadata": {},
     "output_type": "execute_result"
    }
   ],
   "source": [
    "newsize = (28,28)\n",
    "img = img.resize(newsize)\n",
    "img"
   ]
  },
  {
   "cell_type": "code",
   "execution_count": 200,
   "id": "f2c1c299",
   "metadata": {},
   "outputs": [],
   "source": [
    "testimg = asarray(img)"
   ]
  },
  {
   "cell_type": "code",
   "execution_count": 201,
   "id": "68074fbc",
   "metadata": {},
   "outputs": [
    {
     "name": "stdout",
     "output_type": "stream",
     "text": [
      "(28, 28)\n"
     ]
    }
   ],
   "source": [
    "print(testimg.shape)"
   ]
  },
  {
   "cell_type": "code",
   "execution_count": 202,
   "id": "beda45f4",
   "metadata": {},
   "outputs": [],
   "source": [
    "testimg = testimg.reshape(1, 28, 28, 1)"
   ]
  },
  {
   "cell_type": "code",
   "execution_count": 203,
   "id": "1fe0ac40",
   "metadata": {},
   "outputs": [
    {
     "name": "stdout",
     "output_type": "stream",
     "text": [
      "\u001b[1m1/1\u001b[0m \u001b[32m━━━━━━━━━━━━━━━━━━━━\u001b[0m\u001b[37m\u001b[0m \u001b[1m0s\u001b[0m 16ms/step\n",
      "8\n"
     ]
    }
   ],
   "source": [
    "# predict the class\n",
    "predict_value = model.predict(testimg)\n",
    "digit = argmax(predict_value)\n",
    "print(digit)"
   ]
  },
  {
   "cell_type": "code",
   "execution_count": 204,
   "id": "dac9bcda",
   "metadata": {},
   "outputs": [],
   "source": [
    "# wrong!"
   ]
  },
  {
   "cell_type": "markdown",
   "id": "78063776",
   "metadata": {},
   "source": [
    "### Test for 4"
   ]
  },
  {
   "cell_type": "code",
   "execution_count": 205,
   "id": "7a8da57a",
   "metadata": {},
   "outputs": [
    {
     "name": "stdout",
     "output_type": "stream",
     "text": [
      "JPEG\n",
      "(2673, 2727)\n",
      "L\n"
     ]
    }
   ],
   "source": [
    "img = Image.open(os.path.join(path, 'Four.jpg'))\n",
    "print(img.format)\n",
    "print(img.size)\n",
    "print(img.mode)"
   ]
  },
  {
   "cell_type": "code",
   "execution_count": 206,
   "id": "fda9ff53",
   "metadata": {},
   "outputs": [
    {
     "data": {
      "image/png": "[encoded data removed]",
      "text/plain": [
       "<PIL.Image.Image image mode=L size=28x28>"
      ]
     },
     "execution_count": 206,
     "metadata": {},
     "output_type": "execute_result"
    }
   ],
   "source": [
    "newsize = (28,28)\n",
    "img = img.resize(newsize)\n",
    "img"
   ]
  },
  {
   "cell_type": "code",
   "execution_count": 207,
   "id": "fc0a98ad",
   "metadata": {},
   "outputs": [],
   "source": [
    "testimg = asarray(img)"
   ]
  },
  {
   "cell_type": "code",
   "execution_count": 208,
   "id": "508ce9c6",
   "metadata": {},
   "outputs": [
    {
     "name": "stdout",
     "output_type": "stream",
     "text": [
      "(28, 28)\n"
     ]
    }
   ],
   "source": [
    "print(testimg.shape)"
   ]
  },
  {
   "cell_type": "code",
   "execution_count": 209,
   "id": "161663bc",
   "metadata": {},
   "outputs": [],
   "source": [
    "testimg = testimg.reshape(1, 28, 28, 1)"
   ]
  },
  {
   "cell_type": "code",
   "execution_count": 210,
   "id": "ca2c7eac",
   "metadata": {},
   "outputs": [
    {
     "name": "stdout",
     "output_type": "stream",
     "text": [
      "\u001b[1m1/1\u001b[0m \u001b[32m━━━━━━━━━━━━━━━━━━━━\u001b[0m\u001b[37m\u001b[0m \u001b[1m0s\u001b[0m 31ms/step\n",
      "8\n"
     ]
    }
   ],
   "source": [
    "# predict the class\n",
    "predict_value = model.predict(testimg)\n",
    "digit = argmax(predict_value)\n",
    "print(digit)"
   ]
  },
  {
   "cell_type": "markdown",
   "id": "ed75346b",
   "metadata": {},
   "source": [
    "### Test for 3"
   ]
  },
  {
   "cell_type": "code",
   "execution_count": 211,
   "id": "88b8a077",
   "metadata": {},
   "outputs": [
    {
     "name": "stdout",
     "output_type": "stream",
     "text": [
      "JPEG\n",
      "(2709, 2475)\n",
      "L\n"
     ]
    }
   ],
   "source": [
    "img = Image.open(os.path.join(path, 'Three.jpg'))\n",
    "print(img.format)\n",
    "print(img.size)\n",
    "print(img.mode)"
   ]
  },
  {
   "cell_type": "code",
   "execution_count": 212,
   "id": "b0ab0039",
   "metadata": {},
   "outputs": [
    {
     "data": {
      "image/png": "[encoded data removed]",
      "text/plain": [
       "<PIL.Image.Image image mode=L size=28x28>"
      ]
     },
     "execution_count": 212,
     "metadata": {},
     "output_type": "execute_result"
    }
   ],
   "source": [
    "newsize = (28,28)\n",
    "img = img.resize(newsize)\n",
    "img"
   ]
  },
  {
   "cell_type": "code",
   "execution_count": 213,
   "id": "28d73841",
   "metadata": {},
   "outputs": [],
   "source": [
    "testimg = asarray(img)"
   ]
  },
  {
   "cell_type": "code",
   "execution_count": 214,
   "id": "ef0b8445",
   "metadata": {},
   "outputs": [
    {
     "name": "stdout",
     "output_type": "stream",
     "text": [
      "(28, 28)\n"
     ]
    }
   ],
   "source": [
    "print(testimg.shape)"
   ]
  },
  {
   "cell_type": "code",
   "execution_count": 215,
   "id": "a7c93c2c",
   "metadata": {},
   "outputs": [],
   "source": [
    "testimg = testimg.reshape(1, 28, 28, 1)"
   ]
  },
  {
   "cell_type": "code",
   "execution_count": 216,
   "id": "5efab018",
   "metadata": {},
   "outputs": [
    {
     "name": "stdout",
     "output_type": "stream",
     "text": [
      "\u001b[1m1/1\u001b[0m \u001b[32m━━━━━━━━━━━━━━━━━━━━\u001b[0m\u001b[37m\u001b[0m \u001b[1m0s\u001b[0m 31ms/step\n",
      "8\n"
     ]
    }
   ],
   "source": [
    "# predict the class\n",
    "predict_value = model.predict(testimg)\n",
    "digit = argmax(predict_value)\n",
    "print(digit)"
   ]
  },
  {
   "cell_type": "markdown",
   "id": "41aff8ea",
   "metadata": {},
   "source": [
    "### Test for 2"
   ]
  },
  {
   "cell_type": "code",
   "execution_count": 217,
   "id": "3f670dd6",
   "metadata": {},
   "outputs": [
    {
     "name": "stdout",
     "output_type": "stream",
     "text": [
      "JPEG\n",
      "(2795, 2795)\n",
      "L\n"
     ]
    }
   ],
   "source": [
    "img = Image.open(os.path.join(path, 'Two.jpg'))\n",
    "print(img.format)\n",
    "print(img.size)\n",
    "print(img.mode)"
   ]
  },
  {
   "cell_type": "code",
   "execution_count": 218,
   "id": "b08da58b",
   "metadata": {},
   "outputs": [
    {
     "data": {
      "image/png": "[encoded data removed]",
      "text/plain": [
       "<PIL.Image.Image image mode=L size=28x28>"
      ]
     },
     "execution_count": 218,
     "metadata": {},
     "output_type": "execute_result"
    }
   ],
   "source": [
    "newsize = (28,28)\n",
    "img = img.resize(newsize)\n",
    "img"
   ]
  },
  {
   "cell_type": "code",
   "execution_count": 219,
   "id": "db318bd7",
   "metadata": {},
   "outputs": [],
   "source": [
    "testimg = asarray(img)"
   ]
  },
  {
   "cell_type": "code",
   "execution_count": 220,
   "id": "58e0dcf5",
   "metadata": {},
   "outputs": [
    {
     "name": "stdout",
     "output_type": "stream",
     "text": [
      "(28, 28)\n"
     ]
    }
   ],
   "source": [
    "print(testimg.shape)"
   ]
  },
  {
   "cell_type": "code",
   "execution_count": 221,
   "id": "9559a29d",
   "metadata": {},
   "outputs": [],
   "source": [
    "testimg = testimg.reshape(1, 28, 28, 1)"
   ]
  },
  {
   "cell_type": "code",
   "execution_count": 222,
   "id": "a4d57d6e",
   "metadata": {},
   "outputs": [
    {
     "name": "stdout",
     "output_type": "stream",
     "text": [
      "\u001b[1m1/1\u001b[0m \u001b[32m━━━━━━━━━━━━━━━━━━━━\u001b[0m\u001b[37m\u001b[0m \u001b[1m0s\u001b[0m 16ms/step\n",
      "8\n"
     ]
    }
   ],
   "source": [
    "# predict the class\n",
    "predict_value = model.predict(testimg)\n",
    "digit = argmax(predict_value)\n",
    "print(digit)"
   ]
  },
  {
   "cell_type": "markdown",
   "id": "291d799d",
   "metadata": {},
   "source": [
    "### Test for 1"
   ]
  },
  {
   "cell_type": "code",
   "execution_count": 240,
   "id": "528e6d60",
   "metadata": {},
   "outputs": [
    {
     "name": "stdout",
     "output_type": "stream",
     "text": [
      "JPEG\n",
      "(2785, 2894)\n",
      "L\n"
     ]
    }
   ],
   "source": [
    "img = Image.open(os.path.join(path, 'One.jpg'))\n",
    "print(img.format)\n",
    "print(img.size)\n",
    "print(img.mode)"
   ]
  },
  {
   "cell_type": "code",
   "execution_count": 241,
   "id": "cf20a5a2",
   "metadata": {},
   "outputs": [
    {
     "data": {
      "image/png": "[encoded data removed]",
      "text/plain": [
       "<PIL.Image.Image image mode=L size=28x28>"
      ]
     },
     "execution_count": 241,
     "metadata": {},
     "output_type": "execute_result"
    }
   ],
   "source": [
    "newsize = (28,28)\n",
    "img = img.resize(newsize)\n",
    "img"
   ]
  },
  {
   "cell_type": "code",
   "execution_count": 242,
   "id": "d39124dd",
   "metadata": {},
   "outputs": [],
   "source": [
    "testimg = asarray(img)"
   ]
  },
  {
   "cell_type": "code",
   "execution_count": 243,
   "id": "3e2170f6",
   "metadata": {},
   "outputs": [
    {
     "name": "stdout",
     "output_type": "stream",
     "text": [
      "(28, 28)\n"
     ]
    }
   ],
   "source": [
    "print(testimg.shape)"
   ]
  },
  {
   "cell_type": "code",
   "execution_count": 244,
   "id": "b155088a",
   "metadata": {},
   "outputs": [],
   "source": [
    "testimg = testimg.reshape(1, 28, 28, 1)"
   ]
  },
  {
   "cell_type": "code",
   "execution_count": 245,
   "id": "fefddbc8",
   "metadata": {},
   "outputs": [
    {
     "name": "stdout",
     "output_type": "stream",
     "text": [
      "\u001b[1m1/1\u001b[0m \u001b[32m━━━━━━━━━━━━━━━━━━━━\u001b[0m\u001b[37m\u001b[0m \u001b[1m0s\u001b[0m 31ms/step\n",
      "8\n"
     ]
    }
   ],
   "source": [
    "# predict the class\n",
    "predict_value = model.predict(testimg)\n",
    "digit = argmax(predict_value)\n",
    "print(digit)"
   ]
  },
  {
   "cell_type": "markdown",
   "id": "60fb2501",
   "metadata": {},
   "source": [
    "### Test for 0"
   ]
  },
  {
   "cell_type": "code",
   "execution_count": 246,
   "id": "93262949",
   "metadata": {},
   "outputs": [
    {
     "name": "stdout",
     "output_type": "stream",
     "text": [
      "JPEG\n",
      "(2839, 1985)\n",
      "L\n"
     ]
    }
   ],
   "source": [
    "img = Image.open(os.path.join(path, 'Zero.jpg'))\n",
    "print(img.format)\n",
    "print(img.size)\n",
    "print(img.mode)"
   ]
  },
  {
   "cell_type": "code",
   "execution_count": 247,
   "id": "7a8e2fac",
   "metadata": {},
   "outputs": [
    {
     "data": {
      "image/png": "[encoded data removed]",
      "text/plain": [
       "<PIL.Image.Image image mode=L size=28x28>"
      ]
     },
     "execution_count": 247,
     "metadata": {},
     "output_type": "execute_result"
    }
   ],
   "source": [
    "newsize = (28,28)\n",
    "img = img.resize(newsize)\n",
    "img"
   ]
  },
  {
   "cell_type": "code",
   "execution_count": 248,
   "id": "24e985b4",
   "metadata": {},
   "outputs": [],
   "source": [
    "testimg = asarray(img)"
   ]
  },
  {
   "cell_type": "code",
   "execution_count": 249,
   "id": "d58d8a30",
   "metadata": {},
   "outputs": [
    {
     "name": "stdout",
     "output_type": "stream",
     "text": [
      "(28, 28)\n"
     ]
    }
   ],
   "source": [
    "print(testimg.shape)"
   ]
  },
  {
   "cell_type": "code",
   "execution_count": 250,
   "id": "3bb5c8f5",
   "metadata": {},
   "outputs": [],
   "source": [
    "testimg = testimg.reshape(1, 28, 28, 1)"
   ]
  },
  {
   "cell_type": "code",
   "execution_count": 251,
   "id": "cf66bf5e",
   "metadata": {},
   "outputs": [
    {
     "name": "stdout",
     "output_type": "stream",
     "text": [
      "\u001b[1m1/1\u001b[0m \u001b[32m━━━━━━━━━━━━━━━━━━━━\u001b[0m\u001b[37m\u001b[0m \u001b[1m0s\u001b[0m 31ms/step\n",
      "8\n"
     ]
    }
   ],
   "source": [
    "# predict the class\n",
    "predict_value = model.predict(testimg)\n",
    "digit = argmax(predict_value)\n",
    "print(digit)"
   ]
  },
  {
   "cell_type": "code",
   "execution_count": null,
   "id": "cefc45fc",
   "metadata": {},
   "outputs": [],
   "source": []
  }
 ],
 "metadata": {
  "kernelspec": {
   "display_name": "Python 3 (ipykernel)",
   "language": "python",
   "name": "python3"
  },
  "language_info": {
   "codemirror_mode": {
    "name": "ipython",
    "version": 3
   },
   "file_extension": ".py",
   "mimetype": "text/x-python",
   "name": "python",
   "nbconvert_exporter": "python",
   "pygments_lexer": "ipython3",
   "version": "3.11.5"
  }
 },
 "nbformat": 4,
 "nbformat_minor": 5
}
